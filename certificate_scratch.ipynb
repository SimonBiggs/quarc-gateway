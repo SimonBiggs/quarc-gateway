{
 "cells": [
  {
   "cell_type": "code",
   "execution_count": 1,
   "metadata": {},
   "outputs": [],
   "source": [
    "# Copyright (C) 2016 Simon Biggs\n",
    "# This program is free software: you can redistribute it and/or\n",
    "# modify it under the terms of the GNU Affero General Public\n",
    "# License as published by the Free Software Foundation, either\n",
    "# version 3 of the License, or (at your option) any later version.\n",
    "# This program is distributed in the hope that it will be useful,\n",
    "# but WITHOUT ANY WARRANTY; without even the implied warranty of\n",
    "# MERCHANTABILITY or FITNESS FOR A PARTICULAR PURPOSE. See the GNU\n",
    "# Affero General Public License for more details.\n",
    "# You should have received a copy of the GNU Affero General Public\n",
    "# License along with this program. If not, see\n",
    "# http://www.gnu.org/licenses/."
   ]
  },
  {
   "cell_type": "code",
   "execution_count": 1,
   "metadata": {},
   "outputs": [
    {
     "name": "stderr",
     "output_type": "stream",
     "text": [
      "/home/simon/.pyenv/versions/3.6.1/envs/py36/lib/python3.6/site-packages/ipykernel_launcher.py:1: DeprecationWarning: OpenSSL.rand is deprecated - you should use os.urandom instead\n",
      "  \"\"\"Entry point for launching an IPython kernel.\n"
     ]
    }
   ],
   "source": [
    "from OpenSSL import crypto, SSL\n",
    "from socket import gethostname\n",
    "\n",
    "import logging\n",
    "import zipfile\n",
    "import socket\n",
    "import os\n",
    "import tkinter as tk\n",
    "\n",
    "import tornado.web\n",
    "import tornado.autoreload\n",
    "from tornado.log import enable_pretty_logging\n",
    "\n",
    "from traitlets import Unicode\n",
    "from kernel_gateway.gatewayapp import KernelGatewayApp\n",
    "from notebook.base.handlers import IPythonHandler"
   ]
  },
  {
   "cell_type": "code",
   "execution_count": 2,
   "metadata": {},
   "outputs": [],
   "source": [
    "class BaseIndex(IPythonHandler):\n",
    "    def get(self):\n",
    "        with open('index.html', 'r') as f:\n",
    "            self.write(f.read())"
   ]
  },
  {
   "cell_type": "code",
   "execution_count": 5,
   "metadata": {},
   "outputs": [],
   "source": [
    "class Quarc(KernelGatewayApp):\n",
    "    default_url = Unicode('/')\n",
    "    \n",
    "    def start(self):\n",
    "        handlers = [\n",
    "            ('/.*', BaseIndex)\n",
    "        ]\n",
    "\n",
    "        self.web_app.add_handlers(\".*$\", handlers)\n",
    "\n",
    "        super(Quarc, self).start()"
   ]
  },
  {
   "cell_type": "code",
   "execution_count": 6,
   "metadata": {},
   "outputs": [
    {
     "ename": "MultipleInstanceError",
     "evalue": "Multiple incompatible subclass instances of Quarc are being created.",
     "output_type": "error",
     "traceback": [
      "\u001b[0;31m---------------------------------------------------------------------------\u001b[0m",
      "\u001b[0;31mMultipleInstanceError\u001b[0m                     Traceback (most recent call last)",
      "\u001b[0;32m<ipython-input-6-d4ef7b8e7d56>\u001b[0m in \u001b[0;36m<module>\u001b[0;34m()\u001b[0m\n\u001b[1;32m      5\u001b[0m     \u001b[0mopen_browser\u001b[0m\u001b[0;34m=\u001b[0m\u001b[0;32mTrue\u001b[0m\u001b[0;34m,\u001b[0m\u001b[0;34m\u001b[0m\u001b[0m\n\u001b[1;32m      6\u001b[0m     \u001b[0mallow_headers\u001b[0m\u001b[0;34m=\u001b[0m\u001b[0;34m'X-XSRFToken,Content-Type'\u001b[0m\u001b[0;34m,\u001b[0m\u001b[0;34m\u001b[0m\u001b[0m\n\u001b[0;32m----> 7\u001b[0;31m     allow_methods=\"DELETE\")\n\u001b[0m",
      "\u001b[0;32m~/.pyenv/versions/3.6.1/envs/py36/lib/python3.6/site-packages/jupyter_core/application.py\u001b[0m in \u001b[0;36mlaunch_instance\u001b[0;34m(cls, argv, **kwargs)\u001b[0m\n\u001b[1;32m    265\u001b[0m         \u001b[0;34m\"\"\"Launch an instance of a Jupyter Application\"\"\"\u001b[0m\u001b[0;34m\u001b[0m\u001b[0m\n\u001b[1;32m    266\u001b[0m         \u001b[0;32mtry\u001b[0m\u001b[0;34m:\u001b[0m\u001b[0;34m\u001b[0m\u001b[0m\n\u001b[0;32m--> 267\u001b[0;31m             \u001b[0;32mreturn\u001b[0m \u001b[0msuper\u001b[0m\u001b[0;34m(\u001b[0m\u001b[0mJupyterApp\u001b[0m\u001b[0;34m,\u001b[0m \u001b[0mcls\u001b[0m\u001b[0;34m)\u001b[0m\u001b[0;34m.\u001b[0m\u001b[0mlaunch_instance\u001b[0m\u001b[0;34m(\u001b[0m\u001b[0margv\u001b[0m\u001b[0;34m=\u001b[0m\u001b[0margv\u001b[0m\u001b[0;34m,\u001b[0m \u001b[0;34m**\u001b[0m\u001b[0mkwargs\u001b[0m\u001b[0;34m)\u001b[0m\u001b[0;34m\u001b[0m\u001b[0m\n\u001b[0m\u001b[1;32m    268\u001b[0m         \u001b[0;32mexcept\u001b[0m \u001b[0mNoStart\u001b[0m\u001b[0;34m:\u001b[0m\u001b[0;34m\u001b[0m\u001b[0m\n\u001b[1;32m    269\u001b[0m             \u001b[0;32mreturn\u001b[0m\u001b[0;34m\u001b[0m\u001b[0m\n",
      "\u001b[0;32m~/.pyenv/versions/3.6.1/envs/py36/lib/python3.6/site-packages/traitlets/config/application.py\u001b[0m in \u001b[0;36mlaunch_instance\u001b[0;34m(cls, argv, **kwargs)\u001b[0m\n\u001b[1;32m    654\u001b[0m         \u001b[0mIf\u001b[0m \u001b[0ma\u001b[0m \u001b[0;32mglobal\u001b[0m \u001b[0minstance\u001b[0m \u001b[0malready\u001b[0m \u001b[0mexists\u001b[0m\u001b[0;34m,\u001b[0m \u001b[0mthis\u001b[0m \u001b[0mreinitializes\u001b[0m \u001b[0;32mand\u001b[0m \u001b[0mstarts\u001b[0m \u001b[0mit\u001b[0m\u001b[0;34m\u001b[0m\u001b[0m\n\u001b[1;32m    655\u001b[0m         \"\"\"\n\u001b[0;32m--> 656\u001b[0;31m         \u001b[0mapp\u001b[0m \u001b[0;34m=\u001b[0m \u001b[0mcls\u001b[0m\u001b[0;34m.\u001b[0m\u001b[0minstance\u001b[0m\u001b[0;34m(\u001b[0m\u001b[0;34m**\u001b[0m\u001b[0mkwargs\u001b[0m\u001b[0;34m)\u001b[0m\u001b[0;34m\u001b[0m\u001b[0m\n\u001b[0m\u001b[1;32m    657\u001b[0m         \u001b[0mapp\u001b[0m\u001b[0;34m.\u001b[0m\u001b[0minitialize\u001b[0m\u001b[0;34m(\u001b[0m\u001b[0margv\u001b[0m\u001b[0;34m)\u001b[0m\u001b[0;34m\u001b[0m\u001b[0m\n\u001b[1;32m    658\u001b[0m         \u001b[0mapp\u001b[0m\u001b[0;34m.\u001b[0m\u001b[0mstart\u001b[0m\u001b[0;34m(\u001b[0m\u001b[0;34m)\u001b[0m\u001b[0;34m\u001b[0m\u001b[0m\n",
      "\u001b[0;32m~/.pyenv/versions/3.6.1/envs/py36/lib/python3.6/site-packages/traitlets/config/configurable.py\u001b[0m in \u001b[0;36minstance\u001b[0;34m(cls, *args, **kwargs)\u001b[0m\n\u001b[1;32m    421\u001b[0m             raise MultipleInstanceError(\n\u001b[1;32m    422\u001b[0m                 \u001b[0;34m'Multiple incompatible subclass instances of '\u001b[0m\u001b[0;34m\u001b[0m\u001b[0m\n\u001b[0;32m--> 423\u001b[0;31m                 \u001b[0;34m'%s are being created.'\u001b[0m \u001b[0;34m%\u001b[0m \u001b[0mcls\u001b[0m\u001b[0;34m.\u001b[0m\u001b[0m__name__\u001b[0m\u001b[0;34m\u001b[0m\u001b[0m\n\u001b[0m\u001b[1;32m    424\u001b[0m             )\n\u001b[1;32m    425\u001b[0m \u001b[0;34m\u001b[0m\u001b[0m\n",
      "\u001b[0;31mMultipleInstanceError\u001b[0m: Multiple incompatible subclass instances of Quarc are being created."
     ]
    }
   ],
   "source": [
    "Quarc.launch_instance(\n",
    "    password='', token='', port=8888,\n",
    "    ip='localhost', port_retries=0,\n",
    "    allow_origin='https://scriptedforms.firebaseapp.com',\n",
    "    open_browser=True,\n",
    "    allow_headers='X-XSRFToken,Content-Type',\n",
    "    allow_methods=\"DELETE\")"
   ]
  },
  {
   "cell_type": "code",
   "execution_count": 13,
   "metadata": {},
   "outputs": [],
   "source": []
  },
  {
   "cell_type": "code",
   "execution_count": 6,
   "metadata": {},
   "outputs": [],
   "source": [
    "CERT_FILE = \"myapp.crt\"\n",
    "KEY_FILE = \"myapp.key\""
   ]
  },
  {
   "cell_type": "code",
   "execution_count": 10,
   "metadata": {},
   "outputs": [],
   "source": [
    "create_self_signed_cert('.')"
   ]
  },
  {
   "cell_type": "code",
   "execution_count": 24,
   "metadata": {},
   "outputs": [],
   "source": [
    "# create a key pair\n",
    "k = crypto.PKey()\n",
    "k.generate_key(crypto.TYPE_RSA, 1024)\n",
    "\n",
    "# create a self-signed cert\n",
    "cert = crypto.X509()\n",
    "cert.get_subject().C = \"AU\"\n",
    "cert.get_subject().ST = \"NSW\"\n",
    "cert.get_subject().L = \"Wagga Wagga\"\n",
    "cert.get_subject().O = \"Local Server\"\n",
    "cert.get_subject().OU = \"Local Server\"\n",
    "cert.get_subject().CN = gethostname()\n",
    "cert.set_serial_number(1000)\n",
    "cert.gmtime_adj_notBefore(0)\n",
    "cert.gmtime_adj_notAfter(10*365*24*60*60)\n",
    "cert.set_issuer(cert.get_subject())\n",
    "cert.set_pubkey(k)\n",
    "cert.sign(k, 'sha1')\n",
    "\n",
    "with open(CERT_FILE, 'w') as file:\n",
    "    file_contents = crypto.dump_certificate(crypto.FILETYPE_PEM, cert).decode()\n",
    "    file.write(file_contents)\n",
    "    \n",
    "with open(KEY_FILE, 'w') as file:   \n",
    "    file_contents = crypto.dump_privatekey(crypto.FILETYPE_PEM, k).decode()\n",
    "    file.write(file_contents)"
   ]
  },
  {
   "cell_type": "code",
   "execution_count": 15,
   "metadata": {},
   "outputs": [
    {
     "data": {
      "text/plain": [
       "<OpenSSL.crypto.X509 at 0x7f0be6b9b0f0>"
      ]
     },
     "execution_count": 15,
     "metadata": {},
     "output_type": "execute_result"
    }
   ],
   "source": [
    "cert."
   ]
  },
  {
   "cell_type": "code",
   "execution_count": 21,
   "metadata": {},
   "outputs": [],
   "source": [
    "test = crypto.dump_certificate(crypto.FILETYPE_PEM, cert)"
   ]
  },
  {
   "cell_type": "code",
   "execution_count": 23,
   "metadata": {},
   "outputs": [
    {
     "name": "stdout",
     "output_type": "stream",
     "text": [
      "-----BEGIN CERTIFICATE-----\n",
      "MIICWjCCAcMCAgPoMA0GCSqGSIb3DQEBBQUAMHUxCzAJBgNVBAYTAkFVMQwwCgYD\n",
      "VQQIDANOU1cxFDASBgNVBAcMC1dhZ2dhIFdhZ2dhMRUwEwYDVQQKDAxMb2NhbCBT\n",
      "ZXJ2ZXIxFTATBgNVBAsMDExvY2FsIFNlcnZlcjEUMBIGA1UEAwwLSG9tZURlc2t0\n",
      "b3AwHhcNMTcwOTA0MTAzNDM4WhcNMjcwOTAyMTAzNDM4WjB1MQswCQYDVQQGEwJB\n",
      "VTEMMAoGA1UECAwDTlNXMRQwEgYDVQQHDAtXYWdnYSBXYWdnYTEVMBMGA1UECgwM\n",
      "TG9jYWwgU2VydmVyMRUwEwYDVQQLDAxMb2NhbCBTZXJ2ZXIxFDASBgNVBAMMC0hv\n",
      "bWVEZXNrdG9wMIGfMA0GCSqGSIb3DQEBAQUAA4GNADCBiQKBgQDn84P7AEsi+QKR\n",
      "1S8TJF7CiREae8SQ7KctNX1PAf7mq3mOp0TEo2wV8p9RwReFph/dUcp3Qz1+s5EN\n",
      "5YySFadWz+3a2sE/17l3fJ/nid8NxVGYMGAhSYuBS7fXyA9TQ5rGq88rHNph6w4+\n",
      "oi7xIXYExC5f6NUPlZ0vH1BrTdFteQIDAQABMA0GCSqGSIb3DQEBBQUAA4GBADWL\n",
      "6Db2sJn6YIiXBTC34/EY4ShbtfS2JZNRf+9eMVGLfxho4R5CqyhRfKntOYBRUC8b\n",
      "qeNEpSqLR4CZ9QMrZ3cEULc+dgMlult/VQ4HzgTqB8pQssrYhI/ceY+rmmyR1Cl+\n",
      "1JVGg9AEbI0hJep05F6JXHkGxhjDvlBEM/yBGMe+\n",
      "-----END CERTIFICATE-----\n",
      "\n"
     ]
    }
   ],
   "source": [
    "print(test.decode())"
   ]
  },
  {
   "cell_type": "code",
   "execution_count": 10,
   "metadata": {},
   "outputs": [
    {
     "data": {
      "text/plain": [
       "b'v}\\xcd9\\x84Cw\\x9a\\xef\\xb9\\xe0\\xf2/OWE<\\x9dV\\xb7\\x85\\xd4\\x89l\\xcd\\x19Xq\\xd2i\\x95\\xff\\x1b\\xfd\\x91\\xcc\\xa9\\n\\xd0f,\\xeeTm\\x8fh\\xba\\x1d\\xf5\\xcf\\xdd\\xd6\\x80\\x93\\xcfL\\x0f\\xae\\xb7aO\\x05\\x0b\\xc7\\xec\\x11O\\x8f\\xa13\\xa8c\\x8fw\\xa9>Z\\x91\\xfd\\xd8\\xf8_\\xaf\\xea\\xfa$4\\xd86L\\x12\\x1c\\xc6\\x7f\\xfbXC\\xe8\\xfamL|\\x9f}_\\xa6\\xba\\x99t\\xd0c\\xe3\\xc3C\\xfdx\\t\\xe5\\x8d\\x18\\xa7\\x18gl-\\x04\\xc0Fd\\xba\\xa7\\x08\\xc9\\x0b\\xc3\\xc7b\\x00\\x16\\xeb\\x1b\\xe5\\xd3\\xa5\\x8fj\\xd8Z\\xc5$\\xd8\\xde\\xb5o\\x81\\xff\\x9c\\x00\\xa0\\x12L\\x04\\x17e\\x8ff34\\x19\\xe8\\x13\\x97e\\xcf\\xa5\\xf8\\x14M\\xef\\'\\xf5G\\x11\\x97\\xef\\x89\\x81\\x83\\xf9~\\x7f\\xbawB[0\\x18\\xddF\\xa4\\x99\\xc1\\xc0\\xc3\\x97\\xb4\\xb2)\\x0b\\xf6\\xcc\\x8a\\xc4j\\xe4]\\xe5\\xebRP-\\xc1\\xf3c\\xdeY\\x90\\xb7\\x12I\\xf7\\xa5i6\\xa0\\xaf\\x00\\x80\\x7f\\xef\\x02\\xa0&\\xe2\\xb9#\\xca\\xce\\x86\\x8f\\x83\\xe0\\xb3\\xba\\x044\\xc2>Gd\\x99p\\x84\\x95\\x16\\xf0<\\xbcj\\xff\\xe9\\xc0`\\xb8\\xc5/\\x89.\\xde\\x8b\\x96\\x88\\x1cX\\x83\\x12\\xffh?l|\\xe0L\\x99\\x07\\xd6{=+\\x86]`Z\\xfd\\x1e\\xb3[\\xfc9\\xf4\\xb0%\\x8c\\xfeJ\\xffSI\\xc2 <Gs-\\xfc\\xc0\\xf2^\\x1c\\xa7\\x97|\\xb9\\x99\\xd6\\xa3r\\xa0Tw\\xd9\\xf0\\xf3\\x99\"\\x91\\xc3\\x91\\xdb\\t\\xa9\\xca$j\\x0c\\xa0\\xdbs\\x02A\\x1e\\xf5\\xd2\\xc0\\x1fr\\x80L\\x07 \\xd1\\x17\\x95mC`p9\\x06\\x9dnp\\xfd\\xeeK\\xcf\\xd3\\xd4\\x0e\\xf3\\xee\\xfe\\xde\\x84\\xe15\\x9e^\\xa4\\xf1W6\\x15\\xd5\\x858\\x91\\x17\\'\\xd6!zFE\\xe9\\xac\\n\\xe3$\\x97\\xfb\\xc1\\x9f8\\xb4\\xbb\\x81\\xc0\\xad\\xb52\\xab\\xd5\\xd4N\\xe8rF\\x84F.^\\x07\\xea\\xdcZ8\\xbb\\xe4\\xd9\\xec\\x92P\\xc0f\\x1aWa\\xcbv6\\xdav\\xcb\\xe2\\xcb`J\\xe5k\\x8a\\xc6N\\x9avn\\xef\\x92\\x82\\xacS\\x99\\xad\\xae}\\xc1\\x1e\\xedN\\xdb\\xc4B\\xa1\\x9e\\x8f#\\xaa\\xe5\\xc6\\\\\\xbd\\xf6\\xcax\\x9cX\\x06 \\x8e/9\\x94D>>\\xc5\\xc3X/\\xb5$\\x80\\x96$\\xd9\\x99\\x18\\x87\\x978\\xea&*td\\xd7\\xc6\\x143\\xd6+\\xff\\xfd+=j\\xd9\\xe9\\xe7\\xc3r\\xc30p\\xe2z\\x05\\x19\\xc0\\xf4\\x1fA\\xa9\\xed@PM\\\\\\xd5\\xa7\\x9a\\xf8\\xd1\\x18`OR5\\xceEej\\x90\\xa8\\xcd\\xc0\\x15\\xaa\\x03K_k\\x9a|\\xf8\\x126\\x1e\\x15I%(]\\xe3\\xee\\xe9\\xeb\\xe9b\\t\\xcb\\xbb\\x13\\xf7%W\\xeaK\\xdd\\xd9\\x8ck\\x87\\xdd\\n\\x81\\x16)\\xc0\\xf9\\xa8T^\\xfbi\\xfc\\xe0@\\xc4\\xc0\\xc0\\xd8\\x88\\x90/)\\xf5Xq\\xd1\\xe0\\xe3\\xf3\\xfe\\xe2\\xcc\\x9a\\xccD=\\x15\\x7f8\\x98\\x07\\x02\\r\\x02\\xbf\\x1b^\\xde\\r\\xc1\\xb4B\\xdf\\x16\\xf3\\xa6\\xc9\\xb0\\x89\\x10b\\xa2\\xf3\\x0cM\\xda8#\\x1f\\x1b\\xcb\\xb57\\xbe~\\xd2\\xc6\\xe8\\xa0Y9o\\x13\\xf6\\xc9\\x91\\r\\'k\\x93.\\xff\\xb7(\\x85uS\\x1b\\xb7\\x0fJ\\xa8\\xf7i\\xf51\\xa9\\xd9\\x94\\xe7\\xf9|\\x83\\xe6\\x12\\xe1\\x92\\x0f\\x98\\xb3\\xcb}\\xab\\x81j\\xb4\\xec\\x97\\x11,\\x19H\\x02\\x1a\\xf1\\xeeI9\\x9fn\\xec\\x93\\xe8_\\xd4\\xa7\\xcc\\x11\\xdc*_\\xe1\\xads\\xbe\\x17\\xe8Uvyn\\x9a\\xc7\\x03\\xb9d\\xa93\\xc7Tb\\xc7\\x92A\\xe0\\x93#\\x15\\xd3\\xe7\\x02\\xd0\\xcfR^KT\\x01\\xbd\\x9e\\xebY\\x93\\x07\\x8b\\xce\\xba\\x90\\xa1\\xa37g\\xe2\\xc1P\\xb4\\xc8\\xb8\\xdfF\\xeb \\xac9\\x91\\xe6\\x9c\\xfb%1\\xd6B\\x8c]\\x8cR7\\xf8\\x0cT\\xa4\\x8c\\x85`<HSL\\x9ey \\xcc\\x91\\xc56\\x11\\x88\\x8c\\x03\\x05B\\xc9\\xf8\\xb4\\xdf$\\x1cc?\\xf6\\xdb\\xc1)\\xc3\\x9b{G\\x0e\\x8c M\\x80\\x85+w\\x95\\x96\\xf7\\xc8o\\x06\\xd2\\x02,N=\\x95\\x0c\\xa7a>\\x1b\\xbf\\xe4\\xb0\\xae\\xd2?>\\x0c\\xd3\\x81\\x12\\xe0_\\xeb\\xf6q\\xbd]\\xfa\\x1eGG\\x81\\x13K\\xeegZ\\xfb\\x19\\xdc\\xf6\\xff\\xc8\\xcc\\xb0;\\xef\\x15\\x07E\\xdb\\x9a\\x97vvW,\\xd8\\xde\\x8b\\t\\x05g\\x05\\x89\\xcdnaC:\\x9dwI\\xf2\\xa1\\xd0\\x8b\\x06\\x1ce\\xdd\\xf1\\x87\\x90\\xbe\\xa4\\x9cVVZ\\xcf\\x17\\x18'"
      ]
     },
     "execution_count": 10,
     "metadata": {},
     "output_type": "execute_result"
    }
   ],
   "source": [
    "os.urandom(1000)"
   ]
  },
  {
   "cell_type": "code",
   "execution_count": 11,
   "metadata": {},
   "outputs": [],
   "source": [
    "import random"
   ]
  },
  {
   "cell_type": "code",
   "execution_count": 67,
   "metadata": {},
   "outputs": [
    {
     "data": {
      "text/plain": [
       "1850737"
      ]
     },
     "execution_count": 67,
     "metadata": {},
     "output_type": "execute_result"
    }
   ],
   "source": [
    "random.randrange(1000,10000000)"
   ]
  },
  {
   "cell_type": "code",
   "execution_count": null,
   "metadata": {},
   "outputs": [],
   "source": []
  }
 ],
 "metadata": {
  "kernelspec": {
   "display_name": "Python 3",
   "language": "python",
   "name": "python3"
  },
  "language_info": {
   "codemirror_mode": {
    "name": "ipython",
    "version": 3
   },
   "file_extension": ".py",
   "mimetype": "text/x-python",
   "name": "python",
   "nbconvert_exporter": "python",
   "pygments_lexer": "ipython3",
   "version": "3.6.1"
  }
 },
 "nbformat": 4,
 "nbformat_minor": 2
}
